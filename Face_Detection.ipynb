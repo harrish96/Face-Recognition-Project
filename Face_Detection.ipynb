{
 "cells": [
  {
   "cell_type": "code",
   "execution_count": 5,
   "metadata": {
    "collapsed": true
   },
   "outputs": [],
   "source": [
    "import cv2\n",
    "import os\n",
    "import numpy as np\n",
    "import time"
   ]
  },
  {
   "cell_type": "code",
   "execution_count": 6,
   "metadata": {
    "collapsed": true
   },
   "outputs": [],
   "source": [
    "CASC_PATH=\"haarcascades\\\\haarcascade_frontalface_default.xml\""
   ]
  },
  {
   "cell_type": "code",
   "execution_count": 7,
   "metadata": {
    "collapsed": true
   },
   "outputs": [],
   "source": [
    "def get_image():\n",
    "    cap=cv2.VideoCapture(0)\n",
    "    ret=False\n",
    "    while(ret==False):\n",
    "        ret,frame=cap.read()\n",
    "        if ret==True:\n",
    "            cap.release()\n",
    "            return frame"
   ]
  },
  {
   "cell_type": "code",
   "execution_count": 8,
   "metadata": {
    "collapsed": true
   },
   "outputs": [],
   "source": [
    "def detect_Face(frame):\n",
    "    faceCascade=cv2.CascadeClassifier(CASC_PATH)\n",
    "    grayscale=cv2.cvtColor(frame, cv2.COLOR_BGR2GRAY)\n",
    "    faces=faceCascade.detectMultiScale(grayscale,1.1,minNeighbors=10,minSize=(100,100),flags=cv2.CASCADE_SCALE_IMAGE)\n",
    "    if(len(faces)>0):\n",
    "        return faces\n",
    "    else:\n",
    "        return []"
   ]
  },
  {
   "cell_type": "code",
   "execution_count": 9,
   "metadata": {
    "collapsed": true
   },
   "outputs": [],
   "source": [
    "def save_Images(frame,crop):\n",
    "    cropped_image=frame[crop[1]:crop[1]+crop[3],crop[0]:crop[0]+crop[2]]\n",
    "    directory_list=os.listdir(\"Faces\")\n",
    "    name=raw_input(\"Enter the name of the file:\")\n",
    "    if(name not in directory_list):\n",
    "        os.mkdir(\"Faces\\\\\"+name)\n",
    "    time_stamp=time.time()\n",
    "    cv2.imwrite(\"Faces\"+\"\\\\\"+name+\"\\\\\"+name+str(int(time_stamp))+\".jpg\",cropped_image)"
   ]
  },
  {
   "cell_type": "code",
   "execution_count": 14,
   "metadata": {
    "collapsed": true
   },
   "outputs": [],
   "source": [
    "def isolate_Face(frame,(x,y,w,h)):\n",
    "    cv2.rectangle(frame, (x, y), (x+w, y+h), (0,100,0), 3)\n",
    "    cv2.imshow(\"Snapshot\",frame)\n",
    "    cv2.waitKey(2000)\n",
    "    cv2.destroyAllWindows()"
   ]
  },
  {
   "cell_type": "code",
   "execution_count": 15,
   "metadata": {},
   "outputs": [],
   "source": [
    "def start_point():\n",
    "    frame=get_image()\n",
    "    face_coordinates=detect_Face(frame)\n",
    "    for i in range(0,len(face_coordinates)):\n",
    "        (x,y,w,h)=(face_coordinates[i][0],face_coordinates[i][1],face_coordinates[i][2],face_coordinates[i][3])\n",
    "        #isolate_Face(frame,(x,y,w,h)) #Optional Code to show result\n",
    "        save_Images(frame,(x,y,w,h))"
   ]
  },
  {
   "cell_type": "code",
   "execution_count": 16,
   "metadata": {},
   "outputs": [
    {
     "name": "stdout",
     "output_type": "stream",
     "text": [
      "Enter the name of the file:Thaadi\n"
     ]
    }
   ],
   "source": [
    "start_point()"
   ]
  },
  {
   "cell_type": "code",
   "execution_count": null,
   "metadata": {
    "collapsed": true
   },
   "outputs": [],
   "source": []
  },
  {
   "cell_type": "code",
   "execution_count": null,
   "metadata": {
    "collapsed": true
   },
   "outputs": [],
   "source": []
  }
 ],
 "metadata": {
  "kernelspec": {
   "display_name": "Python 2",
   "language": "python",
   "name": "python2"
  },
  "language_info": {
   "codemirror_mode": {
    "name": "ipython",
    "version": 2
   },
   "file_extension": ".py",
   "mimetype": "text/x-python",
   "name": "python",
   "nbconvert_exporter": "python",
   "pygments_lexer": "ipython2",
   "version": "2.7.13"
  },
  "widgets": {
   "state": {},
   "version": "1.1.2"
  }
 },
 "nbformat": 4,
 "nbformat_minor": 2
}
