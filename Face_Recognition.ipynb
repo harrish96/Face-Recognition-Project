{
 "cells": [
  {
   "cell_type": "code",
   "execution_count": 1,
   "metadata": {
    "collapsed": true
   },
   "outputs": [],
   "source": [
    "import cv2\n",
    "import os\n",
    "import random\n",
    "import random\n",
    "import time\n",
    "#Algorithms to be implemented\n",
    "from sklearn import svm\n",
    "from sklearn.naive_bayes import GaussianNB\n",
    "from sklearn import tree\n",
    "from sklearn.ensemble import AdaBoostClassifier\n",
    "from sklearn.metrics import accuracy_score"
   ]
  },
  {
   "cell_type": "code",
   "execution_count": 2,
   "metadata": {
    "collapsed": true
   },
   "outputs": [],
   "source": [
    "RESIZE_DIM=(200,200)\n",
    "DIREC_PATH=\"Faces\""
   ]
  },
  {
   "cell_type": "code",
   "execution_count": 3,
   "metadata": {
    "collapsed": true
   },
   "outputs": [],
   "source": [
    "def prepare_Data():\n",
    "    start=time.time()\n",
    "    dir_list=os.listdir(DIREC_PATH)\n",
    "    image_list=[]\n",
    "    for direc in dir_list:\n",
    "        files=os.listdir(DIREC_PATH+'\\\\'+direc)\n",
    "        for file_name in files:\n",
    "            data_array=[]\n",
    "            frame=cv2.resize(cv2.imread(DIREC_PATH+\"\\\\\"+direc+\"\\\\\"+file_name,0),RESIZE_DIM)  \n",
    "            flattened_frame=frame.flatten()\n",
    "            data_array=list(flattened_frame)\n",
    "            data_array.append(direc)\n",
    "            image_list.append(data_array)\n",
    "    end=time.time()\n",
    "    print \"Time to prepare the data is:\"+str(end-start)\n",
    "    return image_list"
   ]
  },
  {
   "cell_type": "code",
   "execution_count": 4,
   "metadata": {
    "collapsed": true
   },
   "outputs": [],
   "source": [
    "def Assign_Data(image_list):\n",
    "    start=time.time()\n",
    "    random.shuffle(image_list)\n",
    "    rows=len(image_list)-1\n",
    "    cols=len(image_list[0])-1\n",
    "    labels_list=[]\n",
    "    for x in image_list:\n",
    "        labels_list.append(x[cols])\n",
    "        x.pop()\n",
    "    training_data=image_list[0:int(0.75*rows)]\n",
    "    test_data=image_list[int(0.75*rows):rows]\n",
    "    training_labels=labels_list[0:int(0.75*rows)]\n",
    "    test_labels=labels_list[int(0.75*rows):rows]\n",
    "    end=time.time()\n",
    "    print \"Time taken to assign the data is:\"+str(end-start)\n",
    "    return training_data,training_labels,test_data,test_labels"
   ]
  },
  {
   "cell_type": "code",
   "execution_count": 29,
   "metadata": {
    "collapsed": true
   },
   "outputs": [],
   "source": [
    "def train_Classifier(training_data,training_labels,algorithm):\n",
    "    clf=None\n",
    "    start=time.time()\n",
    "    if(algorithm==\"svm\"):\n",
    "        clf=svm.SVC(C=1,kernel='linear')\n",
    "    elif(algorithm==\"gaussiannb\"):\n",
    "        clf=GaussianNB()\n",
    "    elif(algorithm==\"tree\"):\n",
    "        clf=tree.DecisionTreeClassifier(max_depth=2,max_leaf_nodes=20)\n",
    "    elif(algorithm==\"adaboost\"):\n",
    "        clf=AdaBoostClassifier(learning_rate=1.0,n_estimators=100)\n",
    "    clf.fit(training_data,training_labels)\n",
    "    end=time.time()\n",
    "    print \"Time taken for \"+algorithm+\" to train the data is:\"+str(end-start)\n",
    "    return clf"
   ]
  },
  {
   "cell_type": "code",
   "execution_count": 30,
   "metadata": {
    "collapsed": true
   },
   "outputs": [],
   "source": [
    "def Accuracy(clf,test_data,test_labels):\n",
    "    pred=clf.predict(test_data)\n",
    "    return accuracy_score(pred,test_labels)"
   ]
  },
  {
   "cell_type": "code",
   "execution_count": 31,
   "metadata": {
    "collapsed": true
   },
   "outputs": [],
   "source": [
    "def start_Point(algorithm):\n",
    "    image_list=prepare_Data()\n",
    "    training_data,training_labels,test_data,test_labels=Assign_Data(image_list)\n",
    "    clf=train_Classifier(training_data,training_labels,algorithm)\n",
    "    accuracy=Accuracy(clf,test_data,test_labels)\n",
    "    return accuracy"
   ]
  },
  {
   "cell_type": "code",
   "execution_count": 32,
   "metadata": {},
   "outputs": [
    {
     "name": "stdout",
     "output_type": "stream",
     "text": [
      "Time to prepare the data is:0.498000144958\n",
      "Time taken to assign the data is:0.0\n",
      "Time taken for tree to train the data is:1.49400019646\n"
     ]
    },
    {
     "data": {
      "text/plain": [
       "0.27272727272727271"
      ]
     },
     "execution_count": 32,
     "metadata": {},
     "output_type": "execute_result"
    }
   ],
   "source": [
    "algorithm=\"SVM\"\n",
    "algorithm=algorithm.lower()\n",
    "start_Point(algorithm)"
   ]
  },
  {
   "cell_type": "code",
   "execution_count": null,
   "metadata": {
    "collapsed": true
   },
   "outputs": [],
   "source": []
  }
 ],
 "metadata": {
  "kernelspec": {
   "display_name": "Python 2",
   "language": "python",
   "name": "python2"
  },
  "language_info": {
   "codemirror_mode": {
    "name": "ipython",
    "version": 2
   },
   "file_extension": ".py",
   "mimetype": "text/x-python",
   "name": "python",
   "nbconvert_exporter": "python",
   "pygments_lexer": "ipython2",
   "version": "2.7.13"
  },
  "widgets": {
   "state": {},
   "version": "1.1.2"
  }
 },
 "nbformat": 4,
 "nbformat_minor": 2
}
