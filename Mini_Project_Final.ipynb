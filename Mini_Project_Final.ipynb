{
 "cells": [
  {
   "cell_type": "code",
   "execution_count": 7,
   "metadata": {
    "collapsed": false
   },
   "outputs": [
    {
     "name": "stdout",
     "output_type": "stream",
     "text": [
      "Finished processing images...\n",
      "Finished creating Training and Test Sets\n",
      "Size of test set: 22\n",
      "Size of training set: 64\n",
      "0.863636363636\n",
      "Predicted List       Actual List\n",
      "Harrish                Harrish\n",
      "Karthick               Karthick\n",
      "Mukesh                 Mukesh\n",
      "Reddy                  Shivaram\n",
      "Mukesh                 Mukesh\n",
      "Mukesh                 Mukesh\n",
      "Shashwath              Shashwath\n",
      "Mukesh                 Shivaram\n",
      "Vanjinathan            Vanjinathan\n",
      "Shivaram               Shivaram\n",
      "Vanjinathan            Vanjinathan\n",
      "Vanjinathan            Vanjinathan\n",
      "Vanjinathan            Vanjinathan\n",
      "Jeyaram                Jeyaram\n",
      "Karthick               Karthick\n",
      "Jeyaram                Jeyaram\n",
      "Harrish                Harrish\n",
      "Shashwath              Shashwath\n",
      "Mukesh                 Shivaram\n",
      "Karthick               Karthick\n",
      "Shivaram               Shivaram\n",
      "Harrish                Harrish\n"
     ]
    }
   ],
   "source": [
    "#Revised Edition\n",
    "import os\n",
    "from sklearn import svm\n",
    "import cv2\n",
    "import random\n",
    "import numpy as np\n",
    "from sklearn.metrics import accuracy_score\n",
    "feature_train=[]\n",
    "label_train=[]\n",
    "image_display=[]\n",
    "image_test=[]\n",
    "file_names=[]\n",
    "directory_list=os.listdir('Faces')\n",
    "for directory in directory_list:\n",
    "    files=os.listdir('Faces\\\\'+directory)\n",
    "    for f in files:\n",
    "        file_names.append(f)\n",
    "random.shuffle(file_names)\n",
    "random.shuffle(file_names)\n",
    "for file_name in file_names:\n",
    "    row=[]\n",
    "    directory_name=file_name.split(' ')[0]\n",
    "    directory_name=directory_name.split('.')[0]\n",
    "    dummy=cv2.imread('Faces\\\\'+directory_name+'\\\\'+file_name,0)\n",
    "    color=cv2.imread('Faces\\\\'+directory_name+'\\\\'+file_name,1)\n",
    "    color=cv2.resize(color,(400,400))\n",
    "    dummy=cv2.resize(dummy,(400,400))\n",
    "    image_display.append(color)\n",
    "    row=np.resize(dummy,(1,int(dummy.shape[0])*int(dummy.shape[1])))[0]\n",
    "    feature_train.append(row)   \n",
    "    file_name=file_name.split(' ')[0]\n",
    "    name=file_name.split('.')[0]\n",
    "    label_train.append(name)\n",
    "print \"Finished processing images...\"\n",
    "feature_test=feature_train[int(0.75*len(feature_train)):len(feature_train)]\n",
    "label_test=label_train[int(0.75*len(label_train)):len(label_train)]\n",
    "image_test=image_display[int(0.75*len(label_train)):len(label_train)]\n",
    "feature_train=feature_train[0:int(0.75*len(feature_train))]\n",
    "label_train=label_train[0:int(0.75*len(label_train))]\n",
    "print \"Finished creating Training and Test Sets\"\n",
    "print \"Size of test set:\",len(feature_test)\n",
    "print \"Size of training set:\",len(feature_train)\n",
    "clf=svm.SVC(C=1,kernel='linear')\n",
    "clf.fit(feature_train,label_train)\n",
    "pred=clf.predict(feature_test)\n",
    "print accuracy_score(pred,label_test)\n",
    "len1=len(\"Predicted List\")\n",
    "len2=len(\"Actual List\")\n",
    "print \"Predicted List\",\"      Actual List\"\n",
    "for i in range(0,len(image_test)):\n",
    "    cv2.imshow('image',image_test[i])\n",
    "    \n",
    "    print pred[i],(len1-len(pred[i])+7)*\" \",label_test[i]\n",
    "    cv2.waitKey(0)\n",
    "cv2.destroyAllWindows()"
   ]
  },
  {
   "cell_type": "code",
   "execution_count": 5,
   "metadata": {
    "collapsed": false
   },
   "outputs": [
    {
     "name": "stdout",
     "output_type": "stream",
     "text": [
      "Your face was not caught, rerun this application\n"
     ]
    }
   ],
   "source": [
    "#Saving an image\n",
    "import cv2\n",
    "import os\n",
    "import numpy as np\n",
    "import time\n",
    "file_list=[]\n",
    "directory_list=os.listdir('Faces')\n",
    "cap = cv2.VideoCapture(0)\n",
    "flag=0\n",
    "face=[]\n",
    "counter=2\n",
    "cascpath=\"OpenCV\\\\opencv\\\\build\\\\etc\\\\haarcascades\\\\haarcascade_frontalface_default.xml\"\n",
    "file1=open(cascpath)\n",
    "faceCascade=cv2.CascadeClassifier(cascpath)\n",
    "while(True):\n",
    "    ret, frame=cap.read()\n",
    "    if ret==True:\n",
    "        face=[]\n",
    "        grayscale=cv2.cvtColor(frame, cv2.COLOR_BGR2GRAY)\n",
    "        faces=faceCascade.detectMultiScale(grayscale,1.1,minNeighbors=10,minSize=(100,100),flags=cv2.CASCADE_SCALE_IMAGE)\n",
    "        for i in range(1,5):\n",
    "            frame = np.array(np.rot90(frame,3))\n",
    "        for (x, y, w, h) in faces:\n",
    "            cv2.rectangle(frame, (x, y), (x+w, y+h), (255,100,0), 3)\n",
    "            face=faces[0]\n",
    "        cv2.imshow('Face Recognized??',frame)\n",
    "        if cv2.waitKey(1) & 0xFF==ord('q'):\n",
    "            if(len(face)>0):\n",
    "                flag=1\n",
    "                print face\n",
    "                name=raw_input('Enter your name:')\n",
    "                name1=name\n",
    "                if(name not in directory_list):\n",
    "                    os.mkdir('Faces\\\\'+name)\n",
    "                    cv2.imwrite('Faces\\\\'+name+'\\\\'+name+'.jpg',frame[faces[0,1]:faces[0,1]+faces[0,3],faces[0,0]:faces[0,0]+faces[0,2]])\n",
    "                    break\n",
    "                else:\n",
    "                    file_list=os.listdir('Faces\\\\'+name)\n",
    "                    if(name1+'.jpg' in file_list):\n",
    "                        while(True):\n",
    "                            if(name+' '+'('+str(counter)+')'+'.jpg' in file_list):\n",
    "                                counter+=1\n",
    "                            else:\n",
    "                                name1=name+' '+'('+str(counter)+')'\n",
    "                                break\n",
    "                    cv2.imwrite('Faces\\\\'+name+'\\\\'+name1+'.jpg',frame[faces[0,1]:faces[0,1]+faces[0,3],faces[0,0]:faces[0,0]+faces[0,2]])\n",
    "                    break\n",
    "            else:\n",
    "                print \"Your face was not caught, rerun this application\"\n",
    "                break\n",
    "                \n",
    "cap.release()\n",
    "cv2.destroyAllWindows()\n"
   ]
  },
  {
   "cell_type": "code",
   "execution_count": null,
   "metadata": {
    "collapsed": true
   },
   "outputs": [],
   "source": [
    "len(files)"
   ]
  },
  {
   "cell_type": "code",
   "execution_count": null,
   "metadata": {
    "collapsed": false
   },
   "outputs": [],
   "source": [
    "row.size"
   ]
  },
  {
   "cell_type": "code",
   "execution_count": null,
   "metadata": {
    "collapsed": false
   },
   "outputs": [],
   "source": [
    "np.concatenate(row, (1,2,4))"
   ]
  },
  {
   "cell_type": "code",
   "execution_count": null,
   "metadata": {
    "collapsed": false
   },
   "outputs": [],
   "source": [
    "audio_files[index].size"
   ]
  },
  {
   "cell_type": "code",
   "execution_count": null,
   "metadata": {
    "collapsed": false
   },
   "outputs": [],
   "source": [
    "row.size"
   ]
  },
  {
   "cell_type": "code",
   "execution_count": null,
   "metadata": {
    "collapsed": false
   },
   "outputs": [],
   "source": [
    "feature_train[0].size"
   ]
  },
  {
   "cell_type": "code",
   "execution_count": null,
   "metadata": {
    "collapsed": false
   },
   "outputs": [],
   "source": [
    "feature_test[0].size"
   ]
  },
  {
   "cell_type": "code",
   "execution_count": null,
   "metadata": {
    "collapsed": false
   },
   "outputs": [],
   "source": [
    "audio_files[index][0:10000]"
   ]
  },
  {
   "cell_type": "code",
   "execution_count": null,
   "metadata": {
    "collapsed": true
   },
   "outputs": [],
   "source": []
  }
 ],
 "metadata": {
  "kernelspec": {
   "display_name": "Python 2",
   "language": "python",
   "name": "python2"
  },
  "language_info": {
   "codemirror_mode": {
    "name": "ipython",
    "version": 2
   },
   "file_extension": ".py",
   "mimetype": "text/x-python",
   "name": "python",
   "nbconvert_exporter": "python",
   "pygments_lexer": "ipython2",
   "version": "2.7.11"
  }
 },
 "nbformat": 4,
 "nbformat_minor": 0
}
